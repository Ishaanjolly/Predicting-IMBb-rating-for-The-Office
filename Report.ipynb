{
 "cells": [
  {
   "cell_type": "markdown",
   "metadata": {
    "cell_id": "00000-26a1ae9a-f0ab-4b47-97a8-1729246dd534",
    "deepnote_cell_type": "markdown"
   },
   "source": [
    "# Machine Learning in Python - Project 1\n",
    "Ishaan Jolly (s1665110), Stephen Gallagher (s2116339), Mariel Reyes-Salazar (s2123659), Julia Stachurska (s2131144)"
   ]
  },
  {
   "cell_type": "markdown",
   "metadata": {
    "cell_id": "00029-1a2f7a66-e54b-40bc-ad59-2beb46fdb992",
    "deepnote_cell_type": "markdown"
   },
   "source": [
    "# Introduction\n",
    "For this paper, we intensively worked together with NBC Studios, where some of the most popular, American shows are made. We investigated the features of a famous TV series \"The Office\" and learned what makes one episode more popular than the other. We then used those findings to build a predictive model that represents the nature of the relationship between features and audience ratings. The ultimate goal of this project is to use the insights gained from our predictive model to advise those at NBC Universal on the creation of a special reunion episode of The Office with the highest IMDb rating possible. Data for this project is derived from the data available in the [`schrutepy`] package at: https://pypi.org/project/schrutepy/.\n",
    "\n",
    "First, we perform preprocessing and basic exploratory analysis of the dataset, and find the distribution of the IMDb ratings. Then, we perform the character analysis by finding the most common characters in the show and creating a visualisation of the important characters with the highest number of spoken lines. Next, we turn to the writer analysis. We do not consider writers that contributed to less than 2 episodes in the series and find which writers wrote the best scripts. We investigate which directors have the highest success in producing the episodes. We compare various models: linear model, ridge, ridge kernel, lasso, and decision trees. Our final choice is the ridge regression model offering a good predictive performance using the selected features."
   ]
  },
  {
   "cell_type": "markdown",
   "metadata": {
    "cell_id": "00002-dbb0f343-c847-415c-893b-4aeb5fc66319",
    "deepnote_cell_type": "markdown",
    "tags": []
   },
   "source": [
    "# Exploratory Data Analysis and Feature Engineering"
   ]
  },
  {
   "cell_type": "markdown",
   "metadata": {
    "cell_id": "00001-6a102fac-0c6b-4671-9ad3-ea19b859de4b",
    "deepnote_cell_type": "markdown"
   },
   "source": [
    "## Setup"
   ]
  },
  {
   "cell_type": "code",
   "execution_count": 37,
   "metadata": {
    "cell_id": "00002-ad016f69-f4fc-49dd-9249-f570419dc9fb",
    "deepnote_cell_type": "code",
    "deepnote_to_be_reexecuted": false,
    "execution_millis": 8953,
    "execution_start": 1614937887827,
    "source_hash": "8fb45546"
   },
   "outputs": [],
   "source": [
    "# Install required packages\n",
    "!pip install -q -r requirements.txt"
   ]
  },
  {
   "cell_type": "markdown",
   "metadata": {
    "cell_id": "00003-e572c3ac-2b7b-41d0-863a-9954ad1fd6c6",
    "deepnote_cell_type": "markdown",
    "tags": []
   },
   "source": [
    "### Importing Libraries\n",
    "In this section we import the relevant libraries required for our data analysis."
   ]
  },
  {
   "cell_type": "code",
   "execution_count": 38,
   "metadata": {
    "cell_id": "00003-a899035e-68d8-4cb6-bd18-e9b950c92ade",
    "deepnote_cell_type": "code",
    "deepnote_to_be_reexecuted": false,
    "execution_millis": 0,
    "execution_start": 1614942442769,
    "source_hash": "6afeba8e"
   },
   "outputs": [],
   "source": [
    "# Display plots inline\n",
    "%matplotlib inline\n",
    "\n",
    "# Data libraries\n",
    "import pandas as pd\n",
    "import numpy as np\n",
    "import statistics as stats\n",
    "import scipy\n",
    "\n",
    "# Plotting libraries\n",
    "import matplotlib.pyplot as plt\n",
    "import seaborn as sns\n",
    "\n",
    "# Plotting defaults\n",
    "plt.rcParams['figure.figsize'] = (8,5)\n",
    "plt.rcParams['figure.dpi'] = 80\n",
    "\n",
    "# sklearn modules\n",
    "import sklearn\n",
    "from sklearn.linear_model import LinearRegression, Lasso, Ridge, RidgeCV\n",
    "from sklearn.metrics import mean_squared_error\n",
    "from sklearn.model_selection import GridSearchCV, KFold, train_test_split\n",
    "from sklearn.pipeline import make_pipeline\n",
    "from sklearn.preprocessing import StandardScaler\n",
    "from sklearn.kernel_ridge import KernelRidge\n",
    "from sklearn.tree import DecisionTreeRegressor\n",
    "from sklearn.tree import export_graphviz\n",
    "\n",
    "# regular expressions module\n",
    "import re\n",
    "\n",
    "# importing schrutepy dataset\n",
    "from schrutepy import schrutepy"
   ]
  },
  {
   "cell_type": "markdown",
   "metadata": {
    "cell_id": "00004-4979260f-ce57-4e72-ba61-d4dcc1d2458a",
    "deepnote_cell_type": "markdown",
    "tags": []
   },
   "source": [
    "### Importing datasets\n",
    "\n",
    "In this section we import the relevant datasets required for our data analysis."
   ]
  },
  {
   "cell_type": "code",
   "execution_count": 39,
   "metadata": {
    "cell_id": "00004-36f278bc-4019-4f7b-8d07-c57274c67d8c",
    "deepnote_cell_type": "code",
    "deepnote_to_be_reexecuted": false,
    "execution_millis": 734,
    "execution_start": 1614937899870,
    "source_hash": "ae5400bd",
    "tags": []
   },
   "outputs": [],
   "source": [
    "# Schrute dataset (Auxiliary dataset for exploratory purposes)\n",
    "schrute = schrutepy.load_schrute()"
   ]
  },
  {
   "cell_type": "code",
   "execution_count": 40,
   "metadata": {
    "cell_id": "00005-03e45034-3e38-4575-bc00-6df8151f0761",
    "deepnote_cell_type": "code",
    "deepnote_to_be_reexecuted": false,
    "execution_millis": 49,
    "execution_start": 1614937900625,
    "source_hash": "51d86bbc",
    "tags": []
   },
   "outputs": [],
   "source": [
    "# Main dataset\n",
    "d = pd.read_csv(\"the_office.csv\")"
   ]
  },
  {
   "cell_type": "markdown",
   "metadata": {
    "cell_id": "00006-19ec7dbc-ee04-47d0-85bd-39de044ff3dd",
    "deepnote_cell_type": "markdown",
    "tags": []
   },
   "source": [
    "### Helper Functions\n",
    "\n",
    "In this section we define two helper functions:\n",
    "- `match_person`, which helps to find a specific character or writer in the series.\n",
    "- `match_phrase`, which helps to find a specific phrase said by one of the characters at one point in the series."
   ]
  },
  {
   "cell_type": "code",
   "execution_count": 41,
   "metadata": {
    "cell_id": "00007-9dbe81a2-e410-4c9f-a5c2-43c812da9d3c",
    "deepnote_cell_type": "code",
    "deepnote_to_be_reexecuted": false,
    "execution_millis": 17,
    "execution_start": 1614937900697,
    "source_hash": "550f60c",
    "tags": []
   },
   "outputs": [],
   "source": [
    "def match_person(name, col, df):\n",
    "\n",
    "    '''\n",
    "    Helper function for finding a character or a writer in the dataframe\n",
    "\n",
    "    inputs:\n",
    "    name: Person name\n",
    "    col: Column to search in the dataframe\n",
    "    df: Dataframe to search\n",
    "\n",
    "    output:\n",
    "    matched: Subset of the dataframe with the episodes where the character or writer is found\n",
    "    '''\n",
    "\n",
    "    name_exp = f\".*({name}).*\"\n",
    "    reg_exp = re.compile(name_exp, re.I)\n",
    "    matched = df[df[f\"{col}\"].str.match(reg_exp)==True]\n",
    "    return matched\n",
    "    match_person(mich)\n",
    "    \n",
    "def match_phrase(phrase, col, df):\n",
    "    \n",
    "    '''\n",
    "    Helper function for finding a specific phrase in the dataframe\n",
    "\n",
    "    inputs:\n",
    "    phrase: Phrase to look\n",
    "    col: Column to search in the dataframe\n",
    "    df: Dataframe to search\n",
    "\n",
    "    output:\n",
    "    matched: Subset of the dataframe with the episodes where the phrase is found\n",
    "    '''\n",
    "\n",
    "    phrase_exp = f\".*({phrase}).*\"\n",
    "    reg_exp = re.compile(phrase_exp, re.I)\n",
    "    matched = df[df[f\"{col}\"].str.match(reg_exp)==True]\n",
    "    return matched"
   ]
  },
  {
   "cell_type": "markdown",
   "metadata": {
    "cell_id": "00013-cbbdf328-62e3-48c1-a58f-9c7ff38c6b55",
    "deepnote_cell_type": "markdown",
    "tags": []
   },
   "source": [
    "### Data Cleaning\n",
    "\n",
    "We found several instances of misspelt director names in the main dataset, which were corrected using the following block of code:"
   ]
  },
  {
   "cell_type": "code",
   "execution_count": 42,
   "metadata": {
    "cell_id": "00008-9c2ad1d2-41d3-4433-903c-7678c393cd49",
    "deepnote_cell_type": "code",
    "deepnote_to_be_reexecuted": false,
    "execution_millis": 33,
    "execution_start": 1614937900731,
    "source_hash": "a5756bff",
    "tags": []
   },
   "outputs": [],
   "source": [
    "# Grouping by director names\n",
    "grouped = d.groupby(by=[\"director\"], dropna=False).sum()\n",
    "directors = grouped.index\n",
    "directors_list = [i for i in directors]\n",
    "directors_list\n",
    "\n",
    "# Incorrect names: Charles McDougal, Claire Scalong, Claire Scalon, Paul Lieerstein, Ken Wittingham, Greg Daneils \n",
    "d[\"director\"] = np.where(d[\"director\"] == \"Charles McDougal\", \"Charles McDougall\", d[\"director\"])\n",
    "d[\"director\"] = np.where(d[\"director\"] == \"Paul Lieerstein\", \"Paul Lieberstein\", d[\"director\"])\n",
    "d[\"director\"] = np.where(d[\"director\"] == \"Ken Wittingham\", \"Ken Whittingham\", d[\"director\"])\n",
    "d[\"director\"] = np.where(d[\"director\"] == \"Greg Daneils\", \"Greg Daniels\", d[\"director\"])\n",
    "d[\"director\"] = np.where(d[\"director\"] == \"Claire Scanlong\", \"Claire Scanlon\", d[\"director\"])\n",
    "d[\"director\"] = np.where(d[\"director\"] == \"Claire Scalon\", \"Claire Scanlon\", d[\"director\"])"
   ]
  },
  {
   "cell_type": "markdown",
   "metadata": {
    "cell_id": "00013-5cae1777-3d29-4756-94cd-a1465e465868",
    "deepnote_cell_type": "markdown",
    "tags": []
   },
   "source": [
    "We also found an instance of a misspelt writer name, which we corrected with the following block of code:"
   ]
  },
  {
   "cell_type": "code",
   "execution_count": 43,
   "metadata": {
    "cell_id": "00009-ff49093a-20df-45c6-9b07-f7400a8d25b7",
    "deepnote_cell_type": "code",
    "deepnote_to_be_reexecuted": false,
    "execution_millis": 24,
    "execution_start": 1614937900771,
    "source_hash": "77063b8e",
    "tags": []
   },
   "outputs": [],
   "source": [
    "# Checking for incorrect writer names \n",
    "grouped = d.groupby(by=[\"writer\"], dropna=False).sum()\n",
    "writer = grouped.index\n",
    "writer_list = [i for i in writer]\n",
    "writer_list\n",
    "\n",
    "# Incorrect names:Jonathan Huges\n",
    "d[\"writer\"] = np.where(d[\"writer\"] == \"Jonathan Huges\", \"Jonathan Hughes\", d[\"writer\"])"
   ]
  },
  {
   "cell_type": "markdown",
   "metadata": {
    "cell_id": "00016-110068ed-28c2-4955-9ad5-6b997a460be2",
    "deepnote_cell_type": "markdown",
    "tags": []
   },
   "source": [
    "We also found several instances is misspelt character and writer names in the schrutepy dataset, which we corrected with the following function:"
   ]
  },
  {
   "cell_type": "code",
   "execution_count": 44,
   "metadata": {
    "cell_id": "00016-8a08b25f-13ea-4efd-9da4-0f556b87b2a6",
    "deepnote_cell_type": "code",
    "deepnote_to_be_reexecuted": false,
    "execution_millis": 1890,
    "execution_start": 1614937900798,
    "source_hash": "20f4c431",
    "tags": []
   },
   "outputs": [],
   "source": [
    "# Cleaning character names in Schrutepy dataset\n",
    "\n",
    "def clean_names_schrutepy():\n",
    "\n",
    "    # Dictionary of correct names (keys) and their regular expressions (values)\n",
    "    regex_list = ['.*(mic\\w*el\\s$|mic.*\\x5D|m\\w*ael|m*i*c\\w*)', '.*(dar.*\\x5D|d*a*r\\w*)', \n",
    "    '.*(a*ng\\w*\"|a*ng\\w*)', '.*(sta*n\\w*)', '.*(de\\w*elo)', '.*(sand\\w*)', '.*(abe\\w*)', \n",
    "    '.*(\"jim\"|jim\"|jim\\w*)', '.*(ph.*l.*s\"|ph.*l.*s)', '.*(A.J.)', '(Gw\\w*eth)', \n",
    "    '.*(dw\\w*ht\\x2E|dw\\w*tte|d\\w*ght)', '.*(\"jo\")', '(pa\\w*m\\s$)', '(hele*n$)']  \n",
    "\n",
    "    correct_names = [\"Michael\", \"Darryl\", \"Angela\", \"Stanley\", \"Deangelo\", \"Andy\", \n",
    "    \"Gabe\", \"Jim\", \"Phyllis\", \"AJ\", \"Gwyneth\", \"Dwight\", \"Jo\", \"Pam\", \"Helene\"]\n",
    "    \n",
    "    dict_names = dict(zip(correct_names, regex_list))\n",
    "\n",
    "    # Fix the incorrect names (case insensitive flag)\n",
    "    for i in dict_names:\n",
    "        reg_exp = re.compile(dict_names[i], re.I)\n",
    "        schrute.character = schrute.character.str.replace(reg_exp, i)\n",
    "\n",
    "clean_names_schrutepy()"
   ]
  },
  {
   "cell_type": "markdown",
   "metadata": {
    "cell_id": "00007-8e63de30-590c-4574-a3ff-991aaed6f67e",
    "deepnote_cell_type": "markdown",
    "tags": []
   },
   "source": [
    "### Splitting Dataset & Dummy Variables\n",
    "We begin our analysis by splitting the dataset between the output variable of interest `imdb_rating` and the remaining input variables. "
   ]
  },
  {
   "cell_type": "code",
   "execution_count": 45,
   "metadata": {
    "cell_id": "00008-b9d6c535-fdbb-4451-a7af-4db96f868b37",
    "deepnote_cell_type": "code",
    "deepnote_to_be_reexecuted": false,
    "execution_millis": 13,
    "execution_start": 1614937902692,
    "source_hash": "b67e92e6",
    "tags": []
   },
   "outputs": [],
   "source": [
    "# Split the d dataset into input/output (X/y)\n",
    "X = d.drop(columns = \"imdb_rating\") # input\n",
    "y = d.imdb_rating # output"
   ]
  },
  {
   "cell_type": "markdown",
   "metadata": {
    "cell_id": "00020-075f1ba8-9eaf-4090-a744-51c6052d4b42",
    "deepnote_cell_type": "markdown",
    "tags": []
   },
   "source": [
    "We then proceed to create dummy variables to transform categorical variables (characters, writers, directors) into numerical variables using one-hot encoding. We will use those variables later to help generate a model that predicts the success of an episode based on a combination of the creative production (writers/directors involvement) as well as character involvement."
   ]
  },
  {
   "cell_type": "code",
   "execution_count": 46,
   "metadata": {
    "cell_id": "00008-fd56cfb4-4f30-4fc7-bf31-f81f2860ae4d",
    "deepnote_cell_type": "code",
    "deepnote_to_be_reexecuted": false,
    "execution_millis": 79,
    "execution_start": 1614937902715,
    "source_hash": "3c63b1aa",
    "tags": []
   },
   "outputs": [],
   "source": [
    "# Creating dummy variables for characters, writers and directors:\n",
    "dummies_chars = X[\"main_chars\"].str.get_dummies(sep = \";\")\n",
    "dummies_writers = X[\"writer\"].str.get_dummies(sep = \";\")\n",
    "dummies_director = X[\"director\"].str.get_dummies(sep = \";\")"
   ]
  },
  {
   "cell_type": "markdown",
   "metadata": {
    "cell_id": "00022-a6668828-96f3-4893-8125-89340257def3",
    "deepnote_cell_type": "markdown",
    "tags": []
   },
   "source": [
    "There are several instances of individuals who primarily write on the show also venturing to direct on the show. To distinguish between the times when these individuals are writing and directing respectively, we added a suffix '(Dir)' to the director names."
   ]
  },
  {
   "cell_type": "code",
   "execution_count": 47,
   "metadata": {
    "cell_id": "00018-d97f529f-73d3-4054-8b3a-91dbc4913296",
    "deepnote_cell_type": "code",
    "deepnote_to_be_reexecuted": false,
    "execution_millis": 9,
    "execution_start": 1614937902798,
    "source_hash": "8dfb2e2d",
    "tags": []
   },
   "outputs": [],
   "source": [
    "# Unique column names \n",
    "director_names = list(dummies_director)\n",
    "suffix = \" (Dir)\"\n",
    "director_suffix = [i + suffix for i in director_names]\n",
    "dummies_director.columns = director_suffix"
   ]
  },
  {
   "cell_type": "markdown",
   "metadata": {
    "cell_id": "00024-d751a06b-7b28-4a05-9fb7-78ff3428ee6c",
    "deepnote_cell_type": "markdown",
    "tags": []
   },
   "source": [
    "We then gather all these dummy variables for characters, writers and directors and append these columns to the inputs dataset."
   ]
  },
  {
   "cell_type": "code",
   "execution_count": 48,
   "metadata": {
    "cell_id": "00019-5fb34573-2148-426e-84aa-59f6ba098a19",
    "deepnote_cell_type": "code",
    "deepnote_to_be_reexecuted": false,
    "execution_millis": 12,
    "execution_start": 1614937902810,
    "source_hash": "175c6185",
    "tags": []
   },
   "outputs": [],
   "source": [
    "X_dummies = pd.concat([X, dummies_chars, dummies_writers, dummies_director], axis = 1)"
   ]
  },
  {
   "cell_type": "markdown",
   "metadata": {
    "cell_id": "00026-994c0fbe-2b1b-4817-9893-b84f0011d57c",
    "deepnote_cell_type": "markdown",
    "tags": []
   },
   "source": [
    "Finally, we split the complete dataset (with input variables and the output variable) into a training and test set, using an 80/20 split for the training and test set respectively."
   ]
  },
  {
   "cell_type": "code",
   "execution_count": 49,
   "metadata": {
    "cell_id": "00006-d9b9a149-07fd-4822-b26d-f83141903dfe",
    "deepnote_cell_type": "code",
    "deepnote_to_be_reexecuted": false,
    "execution_millis": 13,
    "execution_start": 1614937902828,
    "source_hash": "11ade235",
    "tags": []
   },
   "outputs": [],
   "source": [
    "# Split data into training and test sets (80/20):\n",
    "\n",
    "X_train, X_test, y_train, y_test = train_test_split(X_dummies, y, test_size=0.2, random_state=10)\n",
    "\n",
    "# Training data for exploration purposes \n",
    "exp_data = pd.concat([X_train, y_train], axis = 1)"
   ]
  },
  {
   "cell_type": "markdown",
   "metadata": {
    "cell_id": "00028-3f9373a2-0c88-4bc4-893f-cbe0cd7aa9e4",
    "deepnote_cell_type": "markdown",
    "tags": []
   },
   "source": [
    "We found that for certain episodes, there was more than one writer of the episode. Often these combinations of writers worked together exclusively and didn't venture to write individually or with other writers, however, the possibility of getting the same combination of writers to write an episode together years after the show ending appeared to pose problems. \n",
    "\n",
    "Therefore, we split the `writer` column into three separate columns `first_writer`, `second_writer` and `third_writer` in order of each writer contributed to the script, so that we could provide further analysis on the potential impact that the writers of the episodes have on the episodes respective `imdb_rating`. "
   ]
  },
  {
   "cell_type": "code",
   "execution_count": 50,
   "metadata": {
    "cell_id": "00028-612ea24c-5d90-4de8-aae4-d38234850075",
    "deepnote_cell_type": "code",
    "deepnote_to_be_reexecuted": false,
    "execution_millis": 98,
    "execution_start": 1614937902844,
    "source_hash": "2868308b",
    "tags": []
   },
   "outputs": [
    {
     "data": {
      "text/html": [
       "<div>\n",
       "<style scoped>\n",
       "    .dataframe tbody tr th:only-of-type {\n",
       "        vertical-align: middle;\n",
       "    }\n",
       "\n",
       "    .dataframe tbody tr th {\n",
       "        vertical-align: top;\n",
       "    }\n",
       "\n",
       "    .dataframe thead th {\n",
       "        text-align: right;\n",
       "    }\n",
       "</style>\n",
       "<table border=\"1\" class=\"dataframe\">\n",
       "  <thead>\n",
       "    <tr style=\"text-align: right;\">\n",
       "      <th></th>\n",
       "      <th>episode</th>\n",
       "      <th>imdb_rating</th>\n",
       "      <th>first_writer</th>\n",
       "      <th>second_writer</th>\n",
       "      <th>third_writer</th>\n",
       "    </tr>\n",
       "  </thead>\n",
       "  <tbody>\n",
       "    <tr>\n",
       "      <th>113</th>\n",
       "      <td>25</td>\n",
       "      <td>7.9</td>\n",
       "      <td>Aaron Shure</td>\n",
       "      <td>None</td>\n",
       "      <td>None</td>\n",
       "    </tr>\n",
       "    <tr>\n",
       "      <th>64</th>\n",
       "      <td>18</td>\n",
       "      <td>9.3</td>\n",
       "      <td>Jennifer Celotta</td>\n",
       "      <td>Paul Lieberstein</td>\n",
       "      <td>None</td>\n",
       "    </tr>\n",
       "    <tr>\n",
       "      <th>15</th>\n",
       "      <td>10</td>\n",
       "      <td>8.8</td>\n",
       "      <td>Michael Schur</td>\n",
       "      <td>None</td>\n",
       "      <td>None</td>\n",
       "    </tr>\n",
       "    <tr>\n",
       "      <th>125</th>\n",
       "      <td>11</td>\n",
       "      <td>8.9</td>\n",
       "      <td>Mindy Kaling</td>\n",
       "      <td>None</td>\n",
       "      <td>None</td>\n",
       "    </tr>\n",
       "    <tr>\n",
       "      <th>9</th>\n",
       "      <td>4</td>\n",
       "      <td>8.4</td>\n",
       "      <td>B.J. Novak</td>\n",
       "      <td>None</td>\n",
       "      <td>None</td>\n",
       "    </tr>\n",
       "  </tbody>\n",
       "</table>\n",
       "</div>"
      ],
      "text/plain": [
       "     episode  imdb_rating      first_writer     second_writer third_writer\n",
       "113       25          7.9       Aaron Shure              None         None\n",
       "64        18          9.3  Jennifer Celotta  Paul Lieberstein         None\n",
       "15        10          8.8     Michael Schur              None         None\n",
       "125       11          8.9      Mindy Kaling              None         None\n",
       "9          4          8.4        B.J. Novak              None         None"
      ]
     },
     "execution_count": 50,
     "metadata": {},
     "output_type": "execute_result"
    }
   ],
   "source": [
    "# Split the writers: Look regex101.com or debuggex.com\n",
    "first_writer = '(\\w*);' #parenthesis is a catching group, * is for continuing (greedy approach) and  \\w is a fork character, ; is so we dont capture everything\n",
    "exp = re.compile(first_writer, re.I)\n",
    "\n",
    "writers_ep = exp_data[[\"writer\",\"episode\", \"imdb_rating\"]]\n",
    "writers = exp_data[\"writer\"].str.split(\";\", n = 2, expand = True)\n",
    "writers = writers.rename(columns = {0: \"first_writer\", 1: \"second_writer\", 2: \"third_writer\"})\n",
    "\n",
    "split_writers = pd.concat([writers_ep, writers], axis=1)\n",
    "split_writers = split_writers.drop(columns = \"writer\")\n",
    "split_writers.tail(5)"
   ]
  },
  {
   "cell_type": "markdown",
   "metadata": {
    "cell_id": "00030-a1524dec-e67d-4888-b6bd-72cac2881dde",
    "deepnote_cell_type": "markdown"
   },
   "source": [
    "## Visual Data Analysis\n",
    "To begin with some basic exploratory analysis of the dataset, we use the following code:"
   ]
  },
  {
   "cell_type": "code",
   "execution_count": 51,
   "metadata": {
    "cell_id": "00025-ab9ab5c4-1ddf-4b93-a93a-2e553cca9b7d",
    "deepnote_cell_type": "code",
    "deepnote_to_be_reexecuted": false,
    "execution_millis": 8,
    "execution_start": 1614937902934,
    "source_hash": "4bda6689",
    "tags": []
   },
   "outputs": [
    {
     "data": {
      "text/plain": [
       "count    148.00\n",
       "mean       8.25\n",
       "std        0.54\n",
       "min        6.70\n",
       "25%        7.90\n",
       "50%        8.20\n",
       "75%        8.60\n",
       "max        9.70\n",
       "Name: imdb_rating, dtype: float64"
      ]
     },
     "execution_count": 51,
     "metadata": {},
     "output_type": "execute_result"
    }
   ],
   "source": [
    "exp_data.imdb_rating.describe().round(2)"
   ]
  },
  {
   "cell_type": "markdown",
   "metadata": {
    "cell_id": "00034-1560e0a4-bb57-45c2-9ec1-e70af81b2dbe",
    "deepnote_cell_type": "markdown",
    "tags": []
   },
   "source": [
    "We can see that the mean episode rating for the whole series is 8.25, and the median episode rating is 8.20. The first quartile tells us that the median of the lower-rated half of all episodes is 7.90. Conversely, the third quartile tells us that the median of the higher-rated half of all episodes is 8.6.\n",
    "\n",
    "The lowest rated episode of the whole series is 'Get The Girl (Season 8, Episode 19)' with an IMDb rating of 6.70 (this episode featured Andy driving across the country to Tallahassee to track down Erin, and the romance between Andy and Erin received mixed reviews from audiences and critics - something to consider avoiding for the reunion episode). The highest-rated episode of the whole series is tied between 'Goodbye, Michael (Season 7, Episode 22)' and 'Finale (Season 9, Episode 24)' with IMDb ratings of 9.70.\n",
    "\n",
    "It is well known amongst fans of the show that the tail end of the show (seasons 8 and 9 in particular) displayed an evident drop in quality, whereas the golden age for the show was between seasons 2 to 5. Therefore, we look towards the median IMDb episode rating on a per-season basis:"
   ]
  },
  {
   "cell_type": "code",
   "execution_count": 52,
   "metadata": {
    "cell_id": "00035-d100600a-09bc-4342-826d-30e822c5fbfe",
    "deepnote_cell_type": "code",
    "deepnote_to_be_reexecuted": false,
    "execution_millis": 54,
    "execution_start": 1614937902935,
    "source_hash": "42b2ce1e",
    "tags": []
   },
   "outputs": [
    {
     "name": "stdout",
     "output_type": "stream",
     "text": [
      "season\n",
      "1    8.03\n",
      "2    8.51\n",
      "3    8.55\n",
      "4    8.69\n",
      "5    8.50\n",
      "6    8.16\n",
      "7    8.33\n",
      "8    7.68\n",
      "9    7.94\n",
      "Name: imdb_rating, dtype: float64\n"
     ]
    }
   ],
   "source": [
    "print(round(exp_data.groupby(['season'])[\"imdb_rating\"].mean(), 2))"
   ]
  },
  {
   "cell_type": "markdown",
   "metadata": {
    "cell_id": "00036-0594c833-a00c-427d-8d18-bb940c618255",
    "deepnote_cell_type": "markdown",
    "tags": []
   },
   "source": [
    "As expected, the series starts strong with a median IMDb episode rating of 8.03 for season 1.\n",
    "\n",
    "This season is then followed up by 4 seasons of brilliant sitcom television, with a mixture of comedy, drama and some office romances. Seasons 2 through 5 boast a median IMDb episode rating no lower than 8.50, with the series peaking in season 4 at an IMDb rating of 8.69.\n",
    "\n",
    "Following season 5, the show began its decline, with a steep slump in season 8 (IMDb rating of 7.68) before the show finished off strongly at the tail end of the final season.\n",
    "\n",
    "Now, let us investigate the distribution of the IMDb ratings. Firstly, let us test the normality."
   ]
  },
  {
   "cell_type": "code",
   "execution_count": 53,
   "metadata": {
    "cell_id": "00037-063ec3ed-785c-4f46-a93d-cb9515061515",
    "deepnote_cell_type": "code",
    "deepnote_to_be_reexecuted": false,
    "execution_millis": 494,
    "execution_start": 1614937902983,
    "source_hash": "d7c264f4",
    "tags": []
   },
   "outputs": [
    {
     "name": "stderr",
     "output_type": "stream",
     "text": [
      "C:\\Users\\Mariel\\Anaconda3\\lib\\site-packages\\seaborn\\distributions.py:2551: FutureWarning: `distplot` is a deprecated function and will be removed in a future version. Please adapt your code to use either `displot` (a figure-level function with similar flexibility) or `histplot` (an axes-level function for histograms).\n",
      "  warnings.warn(msg, FutureWarning)\n"
     ]
    },
    {
     "data": {
      "text/plain": [
       "<AxesSubplot:ylabel='Density'>"
      ]
     },
     "execution_count": 53,
     "metadata": {},
     "output_type": "execute_result"
    },
    {
     "data": {
      "image/png": "[encoded data removed]",
      "text/plain": [
       "<Figure size 640x400 with 1 Axes>"
      ]
     },
     "metadata": {
      "needs_background": "light"
     },
     "output_type": "display_data"
    }
   ],
   "source": [
    "# Histogram of imdb ratings over the seasons\n",
    "sns.distplot(x=exp_data.imdb_rating, bins = 30)"
   ]
  },
  {
   "cell_type": "markdown",
   "metadata": {
    "cell_id": "00038-450ee50b-6197-4679-8452-a0e17e5aa56a",
    "deepnote_cell_type": "markdown",
    "tags": []
   },
   "source": [
    "This gives a reason to explore the normality of the ratings further. We can investigate the normality of the ratings by performing the Shapiro-Wilk test. This test is more suitable for smaller samples of data, hence we believe that it works well with this particular dataset. \n"
   ]
  },
  {
   "cell_type": "code",
   "execution_count": 54,
   "metadata": {
    "cell_id": "00039-d4710a8e-15b4-4734-97a5-d9467b31c12e",
    "deepnote_cell_type": "code",
    "deepnote_to_be_reexecuted": false,
    "execution_millis": 101,
    "execution_start": 1614937903487,
    "source_hash": "379780bb",
    "tags": []
   },
   "outputs": [
    {
     "name": "stdout",
     "output_type": "stream",
     "text": [
      "Statistics=0.987, p=0.162\n",
      "Sample looks Gaussian (fail to reject H0)\n"
     ]
    }
   ],
   "source": [
    "# Performing Shapiro-Wilk test to ensure normality\n",
    "# Code snippet taken from http://signalsurgeon.com/a-gentle-introduction-to-normality-tests-in-python/\n",
    "stat, p = scipy.stats.shapiro(exp_data.imdb_rating)\n",
    "print('Statistics=%.3f, p=%.3f' % (stat, p))\n",
    "# interpretation\n",
    "alpha = 0.05\n",
    "if p > alpha:\n",
    "    print('Sample looks Gaussian (fail to reject H0)')\n",
    "else:\n",
    "    print('Sample does not look Gaussian (reject H0)')"
   ]
  },
  {
   "cell_type": "markdown",
   "metadata": {
    "cell_id": "00041-1d078432-b84a-4701-9b00-324efffa2afc",
    "deepnote_cell_type": "markdown",
    "tags": []
   },
   "source": [
    "Since we failed to reject the null hypothesis ($H_0$), there is strong evidence that IMBd ratings follow a normal distribution, meaning the mean will represent the centre of the data best. "
   ]
  },
  {
   "cell_type": "markdown",
   "metadata": {
    "cell_id": "00045-30e6e37a-6595-48e2-9a50-2bad3470c95a",
    "deepnote_cell_type": "markdown",
    "tags": []
   },
   "source": [
    "### Character Analysis\n",
    "In this section, we perform a character analysis. We start by finding the number of characters in the show and identifying the most common characters in the show. We believe that it's important to include the 20 most common characters in the show (i.e. characters with the most lines in the series) in the reunion episode to appease the fans and ensure that no main characters are left out of the reunion. "
   ]
  },
  {
   "cell_type": "code",
   "execution_count": 55,
   "metadata": {
    "cell_id": "00033-909b6984-6233-4c04-bca1-ed8cc93989c7",
    "deepnote_cell_type": "code",
    "deepnote_to_be_reexecuted": false,
    "execution_millis": 51,
    "execution_start": 1614937903601,
    "source_hash": "81892dfb",
    "tags": []
   },
   "outputs": [
    {
     "name": "stdout",
     "output_type": "stream",
     "text": [
      "The total number of characters in the series is:  318\n",
      "The 20 most common characters are:  ['Michael' 'Dwight' 'Darryl' 'Jim' 'Pam' 'Andy' 'Angela' 'Kevin' 'Phyllis'\n",
      " 'Kelly' 'Toby' 'Jan' 'Stanley' 'Holly' 'Nellie' 'Gabe' 'David' 'Pete'\n",
      " 'Jo' 'Donna']\n"
     ]
    }
   ],
   "source": [
    "# all_characters is a list of every character in the series sorted by number of lines\n",
    "all_characters = schrute.groupby('character').count()[['index']].sort_values('index', ascending=False).index.values\n",
    "print(\"The total number of characters in the series is: \", len(all_characters))\n",
    "\n",
    "# top 20 main characters \n",
    "main_characters = all_characters[:20]\n",
    "print(\"The 20 most common characters are: \",main_characters)"
   ]
  },
  {
   "cell_type": "markdown",
   "metadata": {
    "cell_id": "00046-78fdb17a-02e6-4210-b411-034f63125fba",
    "deepnote_cell_type": "markdown",
    "tags": []
   },
   "source": [
    "Now, we create visualisations for the number of spoken lines of the most important characters in the series to get a better understanding of the distribution of results."
   ]
  },
  {
   "cell_type": "code",
   "execution_count": 56,
   "metadata": {
    "cell_id": "00026-bf74fa43-642f-4842-b448-c2dff6cc9139",
    "deepnote_cell_type": "code",
    "deepnote_to_be_reexecuted": false,
    "execution_millis": 1684,
    "execution_start": 1614953346809,
    "source_hash": "1e73f90f",
    "tags": []
   },
   "outputs": [
    {
     "data": {
      "text/plain": [
       "<AxesSubplot:xlabel='character'>"
      ]
     },
     "execution_count": 56,
     "metadata": {},
     "output_type": "execute_result"
    },
    {
     "data": {
      "image/png": "[encoded data removed]",
      "text/plain": [
       "<Figure size 640x400 with 1 Axes>"
      ]
     },
     "metadata": {
      "needs_background": "light"
     },
     "output_type": "display_data"
    }
   ],
   "source": [
    "# Create a copy of transcripts\n",
    "transcript_copy = schrute[['episode_name','character','text']].copy()\n",
    "#count the number of lines  of each text! \n",
    "transcript_copy['length'] = transcript_copy['text'].str.split().str.len()\n",
    "\n",
    "# Sum length of each string \n",
    "transcript_char = transcript_copy.groupby(['episode_name','character'])['length'].sum().reset_index()\n",
    "\n",
    "# Total per episode \n",
    "transcript_total = transcript_copy.groupby(['episode_name'])['length'].sum().reset_index() \n",
    "transcript_total.rename(columns = {'length': 'transcript_all_total'}, inplace = True )\n",
    "\n",
    "# Count the number of character that appear in each episode\n",
    "character  = transcript_char.groupby(['episode_name'])['length'].count().reset_index()\n",
    "\n",
    "# We need to consider main character when counting the number of words spoken by them ? may be ? \n",
    "main_characters = exp_data['main_chars'].str.split(';',expand = True).unstack().unique().tolist()\n",
    "main_characters.remove(None)\n",
    "main_characters\n",
    "# New final transcript data frame \n",
    "final_transcript = transcript_char[transcript_char['character'].isin(main_characters)].pivot_table(index='episode_name',columns='character',values='length').reset_index('episode_name')\n",
    "final_transcript = final_transcript.fillna(0) # we will all the NA's so we don't get an error\n",
    "sns.boxplot(data = final_transcript)\n"
   ]
  },
  {
   "cell_type": "markdown",
   "metadata": {
    "cell_id": "00049-f230806e-e37b-4455-ad65-abea51b0b1cc",
    "deepnote_cell_type": "markdown",
    "tags": []
   },
   "source": [
    "From the plot above, we can see that Michael has the highest average number of lines but also the largest distribution. Most characters that we look at have outliers, which suggests that some episodes focus more on certain characters than others. We can also deduce that Michael, Dwight, Darryl, Jim, Pam and Andy are more significant to the show than other characters."
   ]
  },
  {
   "cell_type": "markdown",
   "metadata": {
    "cell_id": "00040-772523e5-4572-4a8e-a037-c52d51b36d52",
    "deepnote_cell_type": "markdown",
    "tags": []
   },
   "source": [
    "## Writer Analysis\n",
    "\n",
    "A writer of an episode is undoubtedly a significant factor when considering the `imdb_rating` and general audience enjoyment of the episode. Therefore, we produced a boxplot portraying the \"top writers\" (i.e. 3 episodes or more) against the `imdb_rating` that the writers' respective episodes received.\n",
    "\n",
    "We decided to remove writers who only contributed to 2 episodes or less from the analysis, due to the possibility that even if their episodes had received high IMDb ratings, we cannot be certain that they could reproduce these high ratings given only a sample of 2 episodes."
   ]
  },
  {
   "cell_type": "code",
   "execution_count": 57,
   "metadata": {
    "cell_id": "00029-850f153d-ad29-41c3-bdc0-82f16b24b623",
    "deepnote_cell_type": "code",
    "deepnote_to_be_reexecuted": false,
    "execution_millis": 737,
    "execution_start": 1614937904516,
    "source_hash": "7dd49d9e",
    "tags": []
   },
   "outputs": [
    {
     "data": {
      "text/plain": [
       "<AxesSubplot:xlabel='writer', ylabel='imdb_rating'>"
      ]
     },
     "execution_count": 57,
     "metadata": {},
     "output_type": "execute_result"
    },
    {
     "data": {
      "image/png": "[encoded data removed]",
      "text/plain": [
       "<Figure size 640x400 with 1 Axes>"
      ]
     },
     "metadata": {
      "needs_background": "light"
     },
     "output_type": "display_data"
    }
   ],
   "source": [
    "# Making a box plot with writers of more than one episode  \n",
    "writers_ep = exp_data[[\"writer\",\"episode_name\", \"imdb_rating\"]]\n",
    "\n",
    "# List of writers\n",
    "all_writers = list(dummies_writers)\n",
    "writer_episode_count = []\n",
    "\n",
    "for i in all_writers:\n",
    "    name = i\n",
    "    a = exp_data[f\"{name}\"].sum()\n",
    "    writer_episode_count.append(a)\n",
    "\n",
    "prolific_writers = pd.DataFrame(zip(all_writers, writer_episode_count))\n",
    "prolific_writers.columns = [\"writer\", \"episodes\"]\n",
    "\n",
    "# Remove writers who have only less than 3 episodes\n",
    "prolific_writers = prolific_writers[prolific_writers.episodes >= 3]\n",
    "\n",
    "# Inner join\n",
    "top_writers = pd.merge(writers_ep, prolific_writers, on = \"writer\", how = \"inner\")\n",
    "\n",
    "# Boxplot\n",
    "writer_boxplot = sns.boxplot(y=\"imdb_rating\", x=\"writer\", data=top_writers)\n",
    "writer_boxplot.set_xticklabels(writer_boxplot.get_xticklabels(), rotation=40)\n",
    "writer_boxplot"
   ]
  },
  {
   "cell_type": "code",
   "execution_count": 58,
   "metadata": {
    "cell_id": "00032-e0c34997-272f-4964-aa21-393744713c42",
    "deepnote_cell_type": "code",
    "deepnote_to_be_reexecuted": false,
    "execution_millis": 144,
    "execution_start": 1614937905258,
    "source_hash": "b9d77ed4",
    "tags": []
   },
   "outputs": [
    {
     "data": {
      "text/html": [
       "<div>\n",
       "<style scoped>\n",
       "    .dataframe tbody tr th:only-of-type {\n",
       "        vertical-align: middle;\n",
       "    }\n",
       "\n",
       "    .dataframe tbody tr th {\n",
       "        vertical-align: top;\n",
       "    }\n",
       "\n",
       "    .dataframe thead th {\n",
       "        text-align: right;\n",
       "    }\n",
       "</style>\n",
       "<table border=\"1\" class=\"dataframe\">\n",
       "  <thead>\n",
       "    <tr style=\"text-align: right;\">\n",
       "      <th></th>\n",
       "      <th>writer</th>\n",
       "      <th>count</th>\n",
       "      <th>mean</th>\n",
       "      <th>std</th>\n",
       "      <th>min</th>\n",
       "      <th>25%</th>\n",
       "      <th>50%</th>\n",
       "      <th>75%</th>\n",
       "      <th>max</th>\n",
       "    </tr>\n",
       "  </thead>\n",
       "  <tbody>\n",
       "    <tr>\n",
       "      <th>7</th>\n",
       "      <td>Greg Daniels</td>\n",
       "      <td>8.0</td>\n",
       "      <td>8.81</td>\n",
       "      <td>0.66</td>\n",
       "      <td>7.7</td>\n",
       "      <td>8.55</td>\n",
       "      <td>8.75</td>\n",
       "      <td>9.10</td>\n",
       "      <td>9.7</td>\n",
       "    </tr>\n",
       "    <tr>\n",
       "      <th>10</th>\n",
       "      <td>Michael Schur</td>\n",
       "      <td>7.0</td>\n",
       "      <td>8.49</td>\n",
       "      <td>0.28</td>\n",
       "      <td>8.1</td>\n",
       "      <td>8.35</td>\n",
       "      <td>8.40</td>\n",
       "      <td>8.65</td>\n",
       "      <td>8.9</td>\n",
       "    </tr>\n",
       "    <tr>\n",
       "      <th>12</th>\n",
       "      <td>Paul Lieberstein</td>\n",
       "      <td>10.0</td>\n",
       "      <td>8.47</td>\n",
       "      <td>0.56</td>\n",
       "      <td>7.5</td>\n",
       "      <td>8.25</td>\n",
       "      <td>8.50</td>\n",
       "      <td>8.67</td>\n",
       "      <td>9.6</td>\n",
       "    </tr>\n",
       "  </tbody>\n",
       "</table>\n",
       "</div>"
      ],
      "text/plain": [
       "              writer  count  mean   std  min   25%   50%   75%  max\n",
       "7       Greg Daniels    8.0  8.81  0.66  7.7  8.55  8.75  9.10  9.7\n",
       "10     Michael Schur    7.0  8.49  0.28  8.1  8.35  8.40  8.65  8.9\n",
       "12  Paul Lieberstein   10.0  8.47  0.56  7.5  8.25  8.50  8.67  9.6"
      ]
     },
     "execution_count": 58,
     "metadata": {},
     "output_type": "execute_result"
    }
   ],
   "source": [
    "# Statistics for the writers we're considering\n",
    "nbc_writers = top_writers.groupby(\"writer\").imdb_rating.describe().reset_index().round(2)\n",
    "\n",
    "nbc_writers.loc[(nbc_writers.writer == \"Greg Daniels\") |\n",
    "                (nbc_writers.writer == \"Paul Lieberstein\") |\n",
    "                (nbc_writers.writer == \"Michael Schur\")]"
   ]
  },
  {
   "cell_type": "markdown",
   "metadata": {
    "cell_id": "00032-6a0e14c3-6d3c-4ee3-a81a-78c9c943d2d3",
    "deepnote_cell_type": "markdown",
    "tags": []
   },
   "source": [
    "From the boxplot and summary statistics above, we can see that the episodes written by Greg Daniels have the highest median IMDb rating of all other writers, surpassing other accomplished writers such as Paul Lieberstein and Michael Shur. \n",
    "\n",
    "Additionally, we can see that the maximum IMDb rating for episodes written by Greg Daniels is higher than any other writer. After further analysis, it is revealed that the two highest-ever IMDb ratings for the series were written by Greg Daniels (the episodes 'Goodbye, Michael' and 'Finale' with IMDb scores of 9.7 each).\n",
    "\n",
    "The writer with the subsequently highest episode IMDb rating is Paul Lierberstein (the episode Stress Relief (Parts 1&2) with an IMDb score of 9.6). However, this episode is displayed as an outlier for the IMDb ratings of the episodes written by Paul Lierberstein.\n",
    "\n",
    "Overall, it is clear that Greg Daniels is a talented writer who can produce episodes with a very high IMDb rating consistently, and should therefore be considered to be the primary writer of the reunion episode. Additionally, we believe that Paul Lierberstein should be considered to help write the episode, as his input could only improve the possibility of creating a reunion episode that the fans will love."
   ]
  },
  {
   "cell_type": "markdown",
   "metadata": {
    "cell_id": "00046-a24af516-c1d0-492a-a757-4a2191fb7dd8",
    "deepnote_cell_type": "markdown",
    "tags": []
   },
   "source": [
    "### Director Analysis\n",
    "Another important feature to consider is the director of the episode. We produce another boxplot portraying the \"top directors\" (i.e. 3 episodes or more) against the `imdb_rating` that the directors' respective episodes received."
   ]
  },
  {
   "cell_type": "code",
   "execution_count": 59,
   "metadata": {
    "cell_id": "00024-0c7cc4dd-a905-43b4-9e04-e8b78c5bf645",
    "deepnote_cell_type": "code",
    "deepnote_to_be_reexecuted": false,
    "execution_millis": 620,
    "execution_start": 1614937905395,
    "source_hash": "3031f071",
    "tags": []
   },
   "outputs": [
    {
     "data": {
      "text/plain": [
       "<AxesSubplot:xlabel='director', ylabel='imdb_rating'>"
      ]
     },
     "execution_count": 59,
     "metadata": {},
     "output_type": "execute_result"
    },
    {
     "data": {
      "image/png": "[encoded data removed]",
      "text/plain": [
       "<Figure size 640x400 with 1 Axes>"
      ]
     },
     "metadata": {
      "needs_background": "light"
     },
     "output_type": "display_data"
    }
   ],
   "source": [
    "# Writer vs rating boxplot\n",
    "# make a box plot with writers of more than one episode  \n",
    "directors_ep = exp_data[[\"director\",\"episode_name\", \"imdb_rating\"]]\n",
    "\n",
    "# List of writers\n",
    "all_directors = list(dummies_director)\n",
    "#all_directors_suffix = [i + suffix for i in all_directors]\n",
    "director_episode_count = []\n",
    "\n",
    "for i in all_directors:\n",
    "    name = i\n",
    "    a = exp_data[f\"{name}\"].sum()\n",
    "    director_episode_count.append(a)\n",
    "\n",
    "prolific_directors = pd.DataFrame(zip(all_directors, director_episode_count))\n",
    "prolific_directors.columns = [\"director_names\", \"episodes\"]\n",
    "\n",
    "# Remove the (Dir) suffix\n",
    "names = prolific_directors[\"director_names\"].squeeze().to_list()\n",
    "stripped_names = [s.strip(' (Dir)') for s in names]\n",
    "\n",
    "prolific_directors[\"director\"] = stripped_names\n",
    "prolific_directors = prolific_directors.drop(columns = [\"director_names\"])\n",
    "\n",
    "# Remove writers who have only less than 3 episodes\n",
    "prolific_directors = prolific_directors[prolific_directors.episodes > 2]\n",
    "\n",
    "# Inner join\n",
    "top_directors = pd.merge(directors_ep, prolific_directors, on = \"director\", how = \"inner\")\n",
    "\n",
    "# Boxplot\n",
    "director_boxplot = sns.boxplot(x=\"director\", y=\"imdb_rating\",data=top_directors)\n",
    "director_boxplot.set_xticklabels(director_boxplot.get_xticklabels(), rotation=40)\n",
    "director_boxplot"
   ]
  },
  {
   "cell_type": "code",
   "execution_count": 60,
   "metadata": {
    "cell_id": "00035-1d6f2e96-bf08-420a-aaf2-6678f6298ecd",
    "deepnote_cell_type": "code",
    "deepnote_to_be_reexecuted": false,
    "execution_millis": 150,
    "execution_start": 1614937906009,
    "source_hash": "4c78c8cb",
    "tags": []
   },
   "outputs": [
    {
     "data": {
      "text/html": [
       "<div>\n",
       "<style scoped>\n",
       "    .dataframe tbody tr th:only-of-type {\n",
       "        vertical-align: middle;\n",
       "    }\n",
       "\n",
       "    .dataframe tbody tr th {\n",
       "        vertical-align: top;\n",
       "    }\n",
       "\n",
       "    .dataframe thead th {\n",
       "        text-align: right;\n",
       "    }\n",
       "</style>\n",
       "<table border=\"1\" class=\"dataframe\">\n",
       "  <thead>\n",
       "    <tr style=\"text-align: right;\">\n",
       "      <th></th>\n",
       "      <th>director</th>\n",
       "      <th>count</th>\n",
       "      <th>mean</th>\n",
       "      <th>std</th>\n",
       "      <th>min</th>\n",
       "      <th>25%</th>\n",
       "      <th>50%</th>\n",
       "      <th>75%</th>\n",
       "      <th>max</th>\n",
       "    </tr>\n",
       "  </thead>\n",
       "  <tbody>\n",
       "    <tr>\n",
       "      <th>4</th>\n",
       "      <td>Jeffrey Blitz</td>\n",
       "      <td>7.0</td>\n",
       "      <td>8.73</td>\n",
       "      <td>0.48</td>\n",
       "      <td>8.2</td>\n",
       "      <td>8.35</td>\n",
       "      <td>8.8</td>\n",
       "      <td>8.90</td>\n",
       "      <td>9.6</td>\n",
       "    </tr>\n",
       "    <tr>\n",
       "      <th>5</th>\n",
       "      <td>Ken Kwapis</td>\n",
       "      <td>10.0</td>\n",
       "      <td>8.60</td>\n",
       "      <td>0.61</td>\n",
       "      <td>7.6</td>\n",
       "      <td>8.20</td>\n",
       "      <td>8.5</td>\n",
       "      <td>8.90</td>\n",
       "      <td>9.7</td>\n",
       "    </tr>\n",
       "    <tr>\n",
       "      <th>8</th>\n",
       "      <td>Paul Feig</td>\n",
       "      <td>13.0</td>\n",
       "      <td>8.72</td>\n",
       "      <td>0.51</td>\n",
       "      <td>8.2</td>\n",
       "      <td>8.30</td>\n",
       "      <td>8.4</td>\n",
       "      <td>9.30</td>\n",
       "      <td>9.7</td>\n",
       "    </tr>\n",
       "    <tr>\n",
       "      <th>12</th>\n",
       "      <td>Tucker Gates</td>\n",
       "      <td>3.0</td>\n",
       "      <td>8.87</td>\n",
       "      <td>0.40</td>\n",
       "      <td>8.5</td>\n",
       "      <td>8.65</td>\n",
       "      <td>8.8</td>\n",
       "      <td>9.05</td>\n",
       "      <td>9.3</td>\n",
       "    </tr>\n",
       "  </tbody>\n",
       "</table>\n",
       "</div>"
      ],
      "text/plain": [
       "         director  count  mean   std  min   25%  50%   75%  max\n",
       "4   Jeffrey Blitz    7.0  8.73  0.48  8.2  8.35  8.8  8.90  9.6\n",
       "5      Ken Kwapis   10.0  8.60  0.61  7.6  8.20  8.5  8.90  9.7\n",
       "8       Paul Feig   13.0  8.72  0.51  8.2  8.30  8.4  9.30  9.7\n",
       "12   Tucker Gates    3.0  8.87  0.40  8.5  8.65  8.8  9.05  9.3"
      ]
     },
     "execution_count": 60,
     "metadata": {},
     "output_type": "execute_result"
    }
   ],
   "source": [
    "# Statistics for the directors we're considering\n",
    "nbc_directors = top_directors.groupby(\"director\").imdb_rating.describe().reset_index().round(2)\n",
    "\n",
    "nbc_directors.loc[(nbc_directors.director == \"Ken Kwapis\") | \n",
    "                    (nbc_directors.director == \"Paul Feig\") |\n",
    "                    (nbc_directors.director == \"Jeffrey Blitz\") |\n",
    "                    (nbc_directors.director == \"Tucker Gates\")]\n"
   ]
  },
  {
   "cell_type": "markdown",
   "metadata": {
    "cell_id": "00040-4861ef53-58af-4498-99a5-174cc07710fb",
    "deepnote_cell_type": "markdown",
    "tags": []
   },
   "source": [
    "We can see from the boxplot and summary statistics above that there is a wider range of directors to consider for the reunion episode. Directors such as Ken Kwapis and Paul Feig have the highest maximum IMDb episode rating compared to other directors, whereas they have lower median episode ratings in comparison.\n",
    "\n",
    "The director with the highest median IMDb episode rating (8.9) is Harold Ramis, however, the maximum rating of an episode directed by Harold Ramis is 9.1, which can be improved. Unfortunately, he has since passed away so cannot participate in the reunion episode anymore. To account for this, we observe the directors Jeffrey Blitz and Tucker Gates, who each have a median IMDb episode rating of 8.8. When comparing these directors, we can see that Jeffrey Blitz has a higher maximum IMDb episode rating (9.6) compared to Tucker Gates (9.3). \n",
    "\n",
    "\n",
    "Overall, the perfect director for the reunion will strike a balance between having produced top quality, highly rated episodes, and also show that they can do so consistently. Taking this into account, the two directors we suggest are Paul Feig and Jeffrey Blitz. Both directors have shown that they can create high rated episodes, so it is important to consider the relationship between the director and the writers, and how this might impact the episode rating and therefore the decision for which directors/writers to decide on.\n",
    "\n",
    "Specifically, we can note that Jeffrey Blitz directed the highly rated 'Stress Relief (Parts 1&2) episode, with Paul Lieberstein writing the episode. Additionally, we can note that Paul Feig directed the highly rated 'Goodbye, Michael' episode, with Greg Daniels writing the episode. Therefore, it is worthwhile considering these director/writer pairs to create the perfect reunion episode.\n"
   ]
  },
  {
   "cell_type": "markdown",
   "metadata": {
    "cell_id": "00046-e254a26c-3941-49bf-9ada-824deb50ea10",
    "deepnote_cell_type": "markdown"
   },
   "source": [
    "# Model Fitting and Tuning"
   ]
  },
  {
   "cell_type": "markdown",
   "metadata": {
    "cell_id": "00053-ca11ad90-a92e-497a-b6e2-7cc5abe63ca2",
    "deepnote_cell_type": "markdown",
    "tags": []
   },
   "source": [
    "In this section we try various models to fit our data: linear model, ridge, ridge kernel, lasso, and decision trees. We then observe what models produce the best results according to their respective root-mean-square-error values.\n",
    "\n",
    "We use the following helper functions in the model fitting:"
   ]
  },
  {
   "cell_type": "code",
   "execution_count": 61,
   "metadata": {
    "cell_id": "00043-085c8de7-fe38-4cd6-85c6-55c8f506569d",
    "deepnote_cell_type": "code",
    "deepnote_to_be_reexecuted": false,
    "execution_millis": 26,
    "execution_start": 1614937906166,
    "source_hash": "ee98549c",
    "tags": []
   },
   "outputs": [],
   "source": [
    "# Helper function for getting the model coefficients\n",
    "\n",
    "def get_coefs(m):\n",
    "    \"\"\"Returns the model coefficients from a Scikit-learn model object as an array,\n",
    "    includes the intercept if available.\n",
    "    \"\"\"\n",
    "    \n",
    "    # If pipeline, use the last step as the model\n",
    "    if (isinstance(m, sklearn.pipeline.Pipeline)):\n",
    "        m = m.steps[-1][1]\n",
    "    \n",
    "    if m.intercept_ is None:\n",
    "        return m.coef_\n",
    "    \n",
    "    return np.concatenate([[m.intercept_], m.coef_])\n",
    "\n",
    "# Helper function to see how well the model is fit\n",
    "\n",
    "def model_fit(m, X, y, plot = False):\n",
    "    \"\"\"Returns the root mean squared error of a fitted model based on provided X and y values.\n",
    "    \n",
    "    Args:\n",
    "        m: sklearn model object\n",
    "        X: model matrix to use for prediction\n",
    "        y: outcome vector to use to calculating rmse and residuals\n",
    "        plot: boolean value, should fit plots be shown \n",
    "    \"\"\"\n",
    "    \n",
    "    y_hat = m.predict(X)\n",
    "    rmse = mean_squared_error(y, y_hat, squared=False)\n",
    "    \n",
    "    res = pd.DataFrame(\n",
    "        data = {'y': y, 'y_hat': y_hat, 'resid': y - y_hat}\n",
    "    )\n",
    "    \n",
    "    if plot:\n",
    "        plt.figure(figsize=(12, 6))\n",
    "        \n",
    "        plt.subplot(121)\n",
    "        sns.lineplot(x='y', y='y_hat', color=\"grey\", data =  pd.DataFrame(data={'y': [min(y),max(y)], 'y_hat': [min(y),max(y)]}))\n",
    "        sns.scatterplot(x='y', y='y_hat', data=res).set_title(\"Fit plot\")\n",
    "        \n",
    "        plt.subplot(122)\n",
    "        sns.scatterplot(x='y', y='resid', data=res).set_title(\"Residual plot\")\n",
    "        \n",
    "        plt.subplots_adjust(left=0.0)\n",
    "        \n",
    "        plt.suptitle(\"Model rmse = \" + str(round(rmse, 4)), fontsize=16)\n",
    "        plt.show()\n",
    "    \n",
    "    return rmse"
   ]
  },
  {
   "cell_type": "markdown",
   "metadata": {
    "cell_id": "00081-b0556ce3-12f4-48a8-8f19-b9e654b1239a",
    "deepnote_cell_type": "markdown",
    "tags": []
   },
   "source": [
    "## Building various models with the most relevant features\n",
    "Considering our previous exploratory data analysis, we decided on the most relevant features in our model, which includes the top 6 main characters, as well as the preferred writers and directors we are considering."
   ]
  },
  {
   "cell_type": "code",
   "execution_count": 62,
   "metadata": {
    "cell_id": "00056-8913162a-ea02-43f7-bde4-c319e7c9ed25",
    "deepnote_cell_type": "code",
    "deepnote_to_be_reexecuted": false,
    "execution_millis": 0,
    "execution_start": 1614944697661,
    "source_hash": "4f728bff",
    "tags": []
   },
   "outputs": [],
   "source": [
    "features = [\"Michael\", \"Dwight\", \"Darryl\", \"Pam\", \"Jim\", \"Andy\",\n",
    "            \"Greg Daniels\", \"Paul Lieberstein\", \"Paul Feig (Dir)\"]\n",
    "\n",
    "X_train_f = X_train[features]\n",
    "X_test_f = X_test[features]"
   ]
  },
  {
   "cell_type": "markdown",
   "metadata": {
    "cell_id": "00057-dc592e5b-100e-4e10-bf53-29c41c2fd4d5",
    "deepnote_cell_type": "markdown",
    "tags": []
   },
   "source": [
    "#### Linear model"
   ]
  },
  {
   "cell_type": "code",
   "execution_count": 63,
   "metadata": {
    "cell_id": "00081-8e45fd23-ae2b-4752-b006-1a3208b71479",
    "deepnote_cell_type": "code",
    "deepnote_to_be_reexecuted": false,
    "execution_millis": 64,
    "execution_start": 1614949885009,
    "source_hash": "ec634150",
    "tags": []
   },
   "outputs": [
    {
     "name": "stdout",
     "output_type": "stream",
     "text": [
      "Linear model RMSE: 0.521\n"
     ]
    }
   ],
   "source": [
    "# Preparing the pipeline for modelling\n",
    "# Linear model\n",
    "lm = make_pipeline(StandardScaler(), LinearRegression()).fit(X_train_f, y_train)\n",
    "\n",
    "linear_model_fit = model_fit(lm, X_test_f, y_test, plot=False)\n",
    "print(f\"Linear model RMSE: {linear_model_fit.round(3)}\")"
   ]
  },
  {
   "cell_type": "markdown",
   "metadata": {
    "cell_id": "00057-3c73a9e1-02ca-4c43-908d-c2eb93d83380",
    "deepnote_cell_type": "markdown",
    "tags": []
   },
   "source": [
    "The linear model Root-Mean-Square-Error (RMSE) of 0.521 provides a fair estimate of the deviation in the data. Next, we try a ridge model.\n",
    "\n",
    "#### Ridge model"
   ]
  },
  {
   "cell_type": "code",
   "execution_count": 64,
   "metadata": {
    "cell_id": "00084-0ece5e9f-ed40-4f4e-9965-7daf04fac03e",
    "deepnote_cell_type": "code",
    "deepnote_to_be_reexecuted": false,
    "execution_millis": 17642,
    "execution_start": 1614944708135,
    "source_hash": "770cb28a",
    "tags": []
   },
   "outputs": [],
   "source": [
    "# Ridge model\n",
    "alphas = np.linspace(0.1, 50, num=250)\n",
    "\n",
    "# Grid search\n",
    "ridge_gs = GridSearchCV(\n",
    "    make_pipeline(\n",
    "        StandardScaler(),\n",
    "        Ridge()\n",
    "    ),\n",
    "    param_grid={'ridge__alpha': alphas},\n",
    "    cv=KFold(5, shuffle=True, random_state=1234),\n",
    "    scoring=\"neg_root_mean_squared_error\"\n",
    ").fit(X_train_f, y_train)"
   ]
  },
  {
   "cell_type": "markdown",
   "metadata": {
    "cell_id": "00085-05377cda-f79c-4b3d-833b-c9f02da3fa1c",
    "deepnote_cell_type": "markdown",
    "tags": []
   },
   "source": [
    "Obtaining the neccesary parameters allows us now to test the model with the training data in the model fitting process."
   ]
  },
  {
   "cell_type": "code",
   "execution_count": 65,
   "metadata": {
    "cell_id": "00085-b0ae6d76-ba93-4cd1-afe6-cff59c581292",
    "deepnote_cell_type": "code",
    "deepnote_to_be_reexecuted": false,
    "execution_millis": 56,
    "execution_start": 1614944729106,
    "source_hash": "d4e40a9f",
    "tags": []
   },
   "outputs": [
    {
     "name": "stdout",
     "output_type": "stream",
     "text": [
      "Ridge model RMSE: 0.518\n"
     ]
    }
   ],
   "source": [
    "ridge_model = make_pipeline(\n",
    "    StandardScaler(),\n",
    "    Ridge(alpha=ridge_gs.best_params_[\"ridge__alpha\"])).fit(X_train_f, y_train)\n",
    "\n",
    "ridge_model_fit = model_fit(ridge_model, X_test_f, y_test, plot=False)\n",
    "print(f\"Ridge model RMSE: {ridge_model_fit.round(3)}\")"
   ]
  },
  {
   "cell_type": "markdown",
   "metadata": {
    "cell_id": "00069-5db9c5dc-3c08-47f2-bdb0-144dd1f48175",
    "deepnote_cell_type": "markdown",
    "tags": []
   },
   "source": [
    "The ridge model RMSE of 0.518  is an improvement from the ridge model, however the difference is negligible and the ridge model is ultimately insignificantly better in the ridge model. Next, we try a lasso model.\n",
    "\n",
    "#### Lasso model"
   ]
  },
  {
   "cell_type": "code",
   "execution_count": 66,
   "metadata": {
    "cell_id": "00051-3237d094-017e-48c4-aac5-7b43c860b704",
    "deepnote_cell_type": "code",
    "deepnote_to_be_reexecuted": false,
    "execution_millis": 5617,
    "execution_start": 1614945676721,
    "source_hash": "d03c8bee",
    "tags": []
   },
   "outputs": [
    {
     "name": "stdout",
     "output_type": "stream",
     "text": [
      "Lasso model RMSE: 0.515\n"
     ]
    }
   ],
   "source": [
    "# Lasso model\n",
    "\n",
    "alphas = np.linspace(0.01, 1, num=100)\n",
    "\n",
    "l_gs = GridSearchCV(\n",
    "    make_pipeline(\n",
    "        StandardScaler(),\n",
    "        Lasso()\n",
    "    ),\n",
    "    param_grid={'lasso__alpha': alphas},\n",
    "    cv=KFold(5, shuffle=True, random_state=1234),\n",
    "    scoring=\"neg_root_mean_squared_error\"\n",
    ").fit(X_train_f, y_train)\n",
    "\n",
    "lasso_model = make_pipeline(\n",
    "    StandardScaler(),\n",
    "    Lasso(alpha=l_gs.best_params_[\"lasso__alpha\"])).fit(X_train_f, y_train)\n",
    "\n",
    "lasso_model_fit = model_fit(lasso_model, X_test_f, y_test, plot=False)\n",
    "print(f\"Lasso model RMSE: {lasso_model_fit.round(3)}\")"
   ]
  },
  {
   "cell_type": "markdown",
   "metadata": {
    "cell_id": "00064-5cc67bee-c5af-43d7-9e57-a7a0b2b82fa7",
    "deepnote_cell_type": "markdown",
    "tags": []
   },
   "source": [
    "The lasso model RMSE of 0.515 indicates a better estimate in comparison to the linear and ridge models, but the difference of the model RSME's explored so far is insignificant. Certain characters may be heavily correlated with others. Hence those variables are probably not independent, which explains the reason why models such lasso would remove those variables by penaltising them. In practice the reunion without the main characters is an unfortunate decision. Next, we try a kernel-ridge model. "
   ]
  },
  {
   "cell_type": "markdown",
   "metadata": {
    "cell_id": "00089-de7128a6-a8bd-4afb-bd94-17bef8c7049d",
    "deepnote_cell_type": "markdown",
    "tags": []
   },
   "source": [
    "#### Kernel-Ridge"
   ]
  },
  {
   "cell_type": "code",
   "execution_count": 67,
   "metadata": {
    "cell_id": "00073-167ff9a3-d67b-4a11-bb85-decc6a2bf561",
    "deepnote_cell_type": "code",
    "deepnote_to_be_reexecuted": false,
    "execution_millis": 20445,
    "execution_start": 1614945691854,
    "source_hash": "140784cb",
    "tags": []
   },
   "outputs": [
    {
     "name": "stdout",
     "output_type": "stream",
     "text": [
      "Kernel-Ridge model RMSE: 0.541\n"
     ]
    }
   ],
   "source": [
    "# Kernel-Ridge model\n",
    "alphas = np.logspace(-3, 0, num = 50)\n",
    "gammas = np.logspace(-3, 0, num = 50)\n",
    "\n",
    "kernel_ridge_gs = GridSearchCV(\n",
    "    make_pipeline(\n",
    "        StandardScaler(),\n",
    "        KernelRidge(kernel = 'rbf')),\n",
    "        param_grid=\n",
    "        {'kernelridge__alpha': alphas},\n",
    "        cv = KFold(5, shuffle = True, random_state=1234),\n",
    "        scoring=\"neg_root_mean_squared_error\"\n",
    ").fit(X_train_f, y_train)\n",
    "\n",
    "best_alpha_kr = kernel_ridge_gs.best_params_[\"kernelridge__alpha\"]\n",
    "kernel_ridge_model = make_pipeline(\n",
    "        StandardScaler(),\n",
    "        KernelRidge(kernel='rbf', alpha = best_alpha_kr)).fit(X_train_f, y_train)\n",
    "        \n",
    "kernel_ridge_fit = model_fit(kernel_ridge_model, X_test_f, y_test, plot=False)\n",
    "print(f\"Kernel-Ridge model RMSE: {kernel_ridge_fit.round(3)}\")"
   ]
  },
  {
   "cell_type": "markdown",
   "metadata": {
    "cell_id": "00071-af86188e-a541-4369-8fa0-9e7a4d672c8f",
    "deepnote_cell_type": "markdown",
    "tags": []
   },
   "source": [
    "The kernel-ridge model test RMSE of 0.541 is also quite close to the previous models, if not marginally worse. \n",
    "\n",
    "#### Regression Decision Tree"
   ]
  },
  {
   "cell_type": "code",
   "execution_count": 68,
   "metadata": {
    "cell_id": "00071-07f3a2b2-be36-4c5d-be4f-9e29a333b99f",
    "deepnote_cell_type": "code",
    "deepnote_to_be_reexecuted": false,
    "execution_millis": 4586,
    "execution_start": 1614949539633,
    "source_hash": "3e35d1cc",
    "tags": []
   },
   "outputs": [
    {
     "name": "stdout",
     "output_type": "stream",
     "text": [
      "Regression tree model RMSE: 0.493\n"
     ]
    }
   ],
   "source": [
    "# regression tree\n",
    "max_depths = np.linspace(1, 20, num = 50)\n",
    "\n",
    "reg_tree_gs = GridSearchCV(\n",
    "    make_pipeline(\n",
    "        StandardScaler(),\n",
    "        DecisionTreeRegressor(criterion = \"mse\", random_state = 1234)),\n",
    "        param_grid=\n",
    "        {'decisiontreeregressor__max_depth': max_depths},\n",
    "        cv = KFold(5, shuffle = True, random_state=1234),\n",
    "        scoring=\"neg_root_mean_squared_error\"\n",
    ").fit(X_train_f, y_train)\n",
    "\n",
    "# Regression tree model fit\n",
    "best_depth = reg_tree_gs.best_params_[\"decisiontreeregressor__max_depth\"]\n",
    "reg_tree_model = make_pipeline(\n",
    "    StandardScaler(),\n",
    "    DecisionTreeRegressor(criterion=\"mse\", random_state = 1234, max_depth=best_depth)).fit(X_train_f, y_train)\n",
    "reg_tree_fit = model_fit(reg_tree_model, X_test_f, y_test, plot=False)\n",
    "print(f\"Regression tree model RMSE: {reg_tree_fit.round(3)}\")"
   ]
  },
  {
   "cell_type": "markdown",
   "metadata": {
    "cell_id": "00073-bae10a8e-3331-4911-b7bc-a245c1078fff",
    "deepnote_cell_type": "markdown",
    "tags": []
   },
   "source": [
    "The regression tree model test RMSE of 0.493 is the best estimate so far, however the improvement compared to the other models is marginal."
   ]
  },
  {
   "cell_type": "markdown",
   "metadata": {
    "cell_id": "00048-9d78a553-e0de-43e0-b678-dc6e5547e455",
    "deepnote_cell_type": "markdown"
   },
   "source": [
    "# Discussion & Conclusions\n",
    "Let us compare the results together by combining them in a table shown below."
   ]
  },
  {
   "cell_type": "code",
   "execution_count": 69,
   "metadata": {
    "cell_id": "00073-396ef939-0237-40af-a9b5-1c595f877975",
    "deepnote_cell_type": "code",
    "deepnote_to_be_reexecuted": false,
    "execution_millis": 189,
    "execution_start": 1614950254793,
    "source_hash": "25c9485d",
    "tags": []
   },
   "outputs": [
    {
     "data": {
      "text/html": [
       "<div>\n",
       "<style scoped>\n",
       "    .dataframe tbody tr th:only-of-type {\n",
       "        vertical-align: middle;\n",
       "    }\n",
       "\n",
       "    .dataframe tbody tr th {\n",
       "        vertical-align: top;\n",
       "    }\n",
       "\n",
       "    .dataframe thead th {\n",
       "        text-align: right;\n",
       "    }\n",
       "</style>\n",
       "<table border=\"1\" class=\"dataframe\">\n",
       "  <thead>\n",
       "    <tr style=\"text-align: right;\">\n",
       "      <th></th>\n",
       "      <th>model</th>\n",
       "      <th>train_rmse</th>\n",
       "      <th>test_rmse</th>\n",
       "    </tr>\n",
       "  </thead>\n",
       "  <tbody>\n",
       "    <tr>\n",
       "      <th>0</th>\n",
       "      <td>linear</td>\n",
       "      <td>0.409</td>\n",
       "      <td>0.521</td>\n",
       "    </tr>\n",
       "    <tr>\n",
       "      <th>1</th>\n",
       "      <td>ridge</td>\n",
       "      <td>0.409</td>\n",
       "      <td>0.518</td>\n",
       "    </tr>\n",
       "    <tr>\n",
       "      <th>2</th>\n",
       "      <td>lasso</td>\n",
       "      <td>0.406</td>\n",
       "      <td>0.515</td>\n",
       "    </tr>\n",
       "    <tr>\n",
       "      <th>3</th>\n",
       "      <td>kernel ridge</td>\n",
       "      <td>0.492</td>\n",
       "      <td>0.541</td>\n",
       "    </tr>\n",
       "    <tr>\n",
       "      <th>4</th>\n",
       "      <td>decision tree</td>\n",
       "      <td>0.476</td>\n",
       "      <td>0.493</td>\n",
       "    </tr>\n",
       "  </tbody>\n",
       "</table>\n",
       "</div>"
      ],
      "text/plain": [
       "           model  train_rmse  test_rmse\n",
       "0         linear       0.409      0.521\n",
       "1          ridge       0.409      0.518\n",
       "2          lasso       0.406      0.515\n",
       "3   kernel ridge       0.492      0.541\n",
       "4  decision tree       0.476      0.493"
      ]
     },
     "execution_count": 69,
     "metadata": {},
     "output_type": "execute_result"
    }
   ],
   "source": [
    "# RMSE comparison \n",
    "test_rmse = [linear_model_fit, ridge_model_fit, lasso_model_fit,  kernel_ridge_fit, reg_tree_fit]\n",
    "train_rmse = [lm.score(X_train_f, y_train), ridge_model.score(X_train_f, y_train), lasso_model.score(X_train_f, y_train),kernel_ridge_model.score(X_train_f, y_train), reg_tree_model.score(X_train_f, y_train)]\n",
    "models = [\"linear\", \"ridge\",\"lasso\", \"kernel ridge\", \"decision tree\"]\n",
    "\n",
    "rmse_comparison = pd.DataFrame(data = zip(models, train_rmse, test_rmse), columns = [\"model\", \"train_rmse\",\"test_rmse\"])\n",
    "\n",
    "rmse_comparison.round(3)"
   ]
  },
  {
   "cell_type": "markdown",
   "metadata": {
    "cell_id": "00078-2bb8fd76-d717-48fe-b9cb-b0635d727987",
    "deepnote_cell_type": "markdown",
    "tags": []
   },
   "source": [
    "The difference in the model test RMSE's is negligible, with the decision tree model providing the best model fit overall. Due to the similarity in model performace with respect to RMSE, other factors determining the optimal model should be considered, such as model complexity, cost and computational efficiency. \n",
    "\n",
    "The decision tree, while exhibiting the lowest RMSE, has a caveat of fiting the data extremely well at the cost of an increased complexity that will lead to overfitting and potentially capturing noise.\n",
    "\n",
    "As mentioned previously, there is a high likelihood of characters being correlated with each other throughout the series. Therefore, to account for these correlations, we choose a ridge regression to be the final choice for the predictive model. The ridge regression model is a linear regression model which penalises on the coefficients to a standard least squares problem. This means that the model removes the features that seem to be affecting the model negatively. The RMSE gives a good estimate of the distribution of our errors.\n",
    "\n",
    "It is preferred to have a simpler model that captures most of the variances in the data, while keeping the computational complexity at a minimal; as there is little value offered by more complex models for this particular case. \n",
    "\n",
    "We plot the results of the ridge regression model on our data below:"
   ]
  },
  {
   "cell_type": "code",
   "execution_count": 70,
   "metadata": {
    "cell_id": "00074-166f7474-e58a-4c06-9ced-7aeee6371f58",
    "deepnote_cell_type": "code",
    "deepnote_to_be_reexecuted": false,
    "execution_millis": 600,
    "execution_start": 1614950815824,
    "source_hash": "246d446f",
    "tags": []
   },
   "outputs": [
    {
     "data": {
      "image/png": "[encoded data removed]",
      "text/plain": [
       "<Figure size 960x480 with 2 Axes>"
      ]
     },
     "metadata": {
      "needs_background": "light"
     },
     "output_type": "display_data"
    },
    {
     "data": {
      "text/plain": [
       "0.5180868610268539"
      ]
     },
     "execution_count": 70,
     "metadata": {},
     "output_type": "execute_result"
    }
   ],
   "source": [
    "model_fit(ridge_model, X_test_f, y_test, plot=True)"
   ]
  },
  {
   "cell_type": "markdown",
   "metadata": {
    "cell_id": "00075-fa52e010-baee-45cb-91b3-1470682c8288",
    "deepnote_cell_type": "markdown",
    "tags": []
   },
   "source": [
    "The fit plot on the left plots $\\hat y$ (estimated output) against $y$ (sample output), where the estimated output is the prediction that the model calculates for the IMDb rating.\n",
    "\n",
    "The model offers a good predictive performance for the observed range of 8.0 to 8.5, as the data fits in a linear fashion. It is important to emphasize that the model also offers an optimistical estimation of the IMDb rating, as it tends to predict the rating higher in other observed ranges. There is an estimated value for the IMDb rating of circa 8.4, which corresponds to an observed value of circa 6.9. This optimistical tendency could be due to the fact that we have considered a limited number of features for inclusion in the model that are positive features, which impact on the IMDb rating in an increasing fashion. However, we did not consider specific individual or a set of characters that may drop the rating due to low popularity or less acceptance by the audience. \n",
    "\n",
    "The plot on the right shows the variances that were not captured by the Ridge model against the observed output $y$ (In this case, the IMDb rating). This is what is called residuals, which are portions of the data that could not be predicted by the model. The standard deviation of the residuals (or the model RMSE), has a value of 0.51, indicating a prediction error of 0.51 units in the IMDb rating. An ideal result for the residual plot would be a random pattern of the data points, which would indicate a good model fit to the data, however the residual plot in this case produces a relatively positive linear trend, indicating that the model is not the best fit for the data.\n",
    "\n",
    "Although the ridge regression model does not provide a perfect fit for the data, this only indicates that there is no perfect map towards a reunion episode with the highest possible rating. There is still a lot of room for creativity and flexibility with regards to what the reunion episode should include, however we will provide NBC with our best recommendations nonetheless.\n"
   ]
  },
  {
   "cell_type": "markdown",
   "metadata": {
    "cell_id": "00075-d365aefb-608c-4b67-b433-9dbb899c4ec0",
    "deepnote_cell_type": "markdown",
    "tags": []
   },
   "source": [
    "### NBC recommendations\n",
    "\n",
    "Summarising the discoveries found in the exploratory analysis phase and the predictive model built, we can help to craft the perfect reunion episode that the fans will love. The three things considered when building this episode were the characters involved, the writer(s) of the episode, and the director.\n",
    "\n",
    "We strongly believe that the most popular characters of the series (i.e. the characters with the most involvement, based on a number of lines throughout the show) should all be included in the episode. These characters include Michael, Dwight, Darryl, Jim, Pam, Andy, Angela, Kevin, Phyllis', Kelly, Toby, Jan, Stanley, Holly, Nellie, Gabe, David, Pete, Jo, and Donna. That being said, we believe that certain characters should feature more than others, and Michael's presence is especially crucial. Additionally, we believe that the episode should focus more heavily on characters such as Dwight, Jim, Pam, Darryl and Andy. \n",
    "\n",
    "One of the most important decisions for creating the reunion episode was who is going to write the script. There are several strong candidates throughout the series to choose from, however, we believe that Greg Daniels should be the main writer of the show. We also suggest that Paul Lierberstein should help Greg Daniels write the episode as a sort of back-seat writer, as his input will inevitably prove to be invaluable. \n",
    "\n",
    "Finally, we believe that Paul Feig should direct the reunion episode, as he has shown in the past that he can create high-quality episodes, many of which are fan favourites."
   ]
  },
  {
   "cell_type": "code",
   "execution_count": 71,
   "metadata": {
    "cell_id": "00051-2824b2a1-08f2-4151-ba70-75dcf922c7bb",
    "deepnote_cell_type": "code",
    "deepnote_to_be_reexecuted": true,
    "execution_millis": 2023,
    "source_hash": "f0c7b663"
   },
   "outputs": [
    {
     "name": "stderr",
     "output_type": "stream",
     "text": [
      "[NbConvertApp] Converting notebook Report.ipynb to pdf\n",
      "[NbConvertApp] Support files will be in Report_files\\\n",
      "[NbConvertApp] Making directory .\\Report_files\n",
      "[NbConvertApp] Making directory .\\Report_files\n",
      "[NbConvertApp] Making directory .\\Report_files\n",
      "[NbConvertApp] Making directory .\\Report_files\n",
      "[NbConvertApp] Making directory .\\Report_files\n",
      "[NbConvertApp] Writing 109950 bytes to notebook.tex\n",
      "[NbConvertApp] Building PDF\n",
      "[NbConvertApp] Running xelatex 3 times: ['xelatex', 'notebook.tex', '-quiet']\n",
      "[NbConvertApp] Running bibtex 1 time: ['bibtex', 'notebook']\n",
      "[NbConvertApp] WARNING | b had problems, most likely because there were no citations\n",
      "[NbConvertApp] PDF successfully created\n",
      "[NbConvertApp] Writing 207297 bytes to Report.pdf\n"
     ]
    }
   ],
   "source": [
    "# Run the following to render to PDF\n",
    "!jupyter nbconvert --to pdf Report.ipynb"
   ]
  },
  {
   "cell_type": "markdown",
   "metadata": {
    "created_in_deepnote_cell": true,
    "deepnote_cell_type": "markdown",
    "tags": []
   },
   "source": [
    "<a style='text-decoration:none;line-height:16px;display:flex;color:#5B5B62;padding:10px;justify-content:end;' href='https://deepnote.com?utm_source=created-in-deepnote-cell&projectId=1068ffe5-a3f5-4d99-be83-e6917379c929' target=\"_blank\">\n",
    "<img style='display:inline;max-height:16px;margin:0px;margin-right:7.5px;' src='data:image/svg+xml;base64,PD94bWwgdmVyc2lvbj0iMS4wIiBlbmNvZGluZz0iVVRGLTgiPz4KPHN2ZyB3aWR0aD0iODBweCIgaGVpZ2h0PSI4MHB4IiB2aWV3Qm94PSIwIDAgODAgODAiIHZlcnNpb249IjEuMSIgeG1sbnM9Imh0dHA6Ly93d3cudzMub3JnLzIwMDAvc3ZnIiB4bWxuczp4bGluaz0iaHR0cDovL3d3dy53My5vcmcvMTk5OS94bGluayI+CiAgICA8IS0tIEdlbmVyYXRvcjogU2tldGNoIDU0LjEgKDc2NDkwKSAtIGh0dHBzOi8vc2tldGNoYXBwLmNvbSAtLT4KICAgIDx0aXRsZT5Hcm91cCAzPC90aXRsZT4KICAgIDxkZXNjPkNyZWF0ZWQgd2l0aCBTa2V0Y2guPC9kZXNjPgogICAgPGcgaWQ9IkxhbmRpbmciIHN0cm9rZT0ibm9uZSIgc3Ryb2tlLXdpZHRoPSIxIiBmaWxsPSJub25lIiBmaWxsLXJ1bGU9ImV2ZW5vZGQiPgogICAgICAgIDxnIGlkPSJBcnRib2FyZCIgdHJhbnNmb3JtPSJ0cmFuc2xhdGUoLTEyMzUuMDAwMDAwLCAtNzkuMDAwMDAwKSI+CiAgICAgICAgICAgIDxnIGlkPSJHcm91cC0zIiB0cmFuc2Zvcm09InRyYW5zbGF0ZSgxMjM1LjAwMDAwMCwgNzkuMDAwMDAwKSI+CiAgICAgICAgICAgICAgICA8cG9seWdvbiBpZD0iUGF0aC0yMCIgZmlsbD0iIzAyNjVCNCIgcG9pbnRzPSIyLjM3NjIzNzYyIDgwIDM4LjA0NzY2NjcgODAgNTcuODIxNzgyMiA3My44MDU3NTkyIDU3LjgyMTc4MjIgMzIuNzU5MjczOSAzOS4xNDAyMjc4IDMxLjY4MzE2ODMiPjwvcG9seWdvbj4KICAgICAgICAgICAgICAgIDxwYXRoIGQ9Ik0zNS4wMDc3MTgsODAgQzQyLjkwNjIwMDcsNzYuNDU0OTM1OCA0Ny41NjQ5MTY3LDcxLjU0MjI2NzEgNDguOTgzODY2LDY1LjI2MTk5MzkgQzUxLjExMjI4OTksNTUuODQxNTg0MiA0MS42NzcxNzk1LDQ5LjIxMjIyODQgMjUuNjIzOTg0Niw0OS4yMTIyMjg0IEMyNS40ODQ5Mjg5LDQ5LjEyNjg0NDggMjkuODI2MTI5Niw0My4yODM4MjQ4IDM4LjY0NzU4NjksMzEuNjgzMTY4MyBMNzIuODcxMjg3MSwzMi41NTQ0MjUgTDY1LjI4MDk3Myw2Ny42NzYzNDIxIEw1MS4xMTIyODk5LDc3LjM3NjE0NCBMMzUuMDA3NzE4LDgwIFoiIGlkPSJQYXRoLTIyIiBmaWxsPSIjMDAyODY4Ij48L3BhdGg+CiAgICAgICAgICAgICAgICA8cGF0aCBkPSJNMCwzNy43MzA0NDA1IEwyNy4xMTQ1MzcsMC4yNTcxMTE0MzYgQzYyLjM3MTUxMjMsLTEuOTkwNzE3MDEgODAsMTAuNTAwMzkyNyA4MCwzNy43MzA0NDA1IEM4MCw2NC45NjA0ODgyIDY0Ljc3NjUwMzgsNzkuMDUwMzQxNCAzNC4zMjk1MTEzLDgwIEM0Ny4wNTUzNDg5LDc3LjU2NzA4MDggNTMuNDE4MjY3Nyw3MC4zMTM2MTAzIDUzLjQxODI2NzcsNTguMjM5NTg4NSBDNTMuNDE4MjY3Nyw0MC4xMjg1NTU3IDM2LjMwMzk1NDQsMzcuNzMwNDQwNSAyNS4yMjc0MTcsMzcuNzMwNDQwNSBDMTcuODQzMDU4NiwzNy43MzA0NDA1IDkuNDMzOTE5NjYsMzcuNzMwNDQwNSAwLDM3LjczMDQ0MDUgWiIgaWQ9IlBhdGgtMTkiIGZpbGw9IiMzNzkzRUYiPjwvcGF0aD4KICAgICAgICAgICAgPC9nPgogICAgICAgIDwvZz4KICAgIDwvZz4KPC9zdmc+' > </img>\n",
    "Created in <span style='font-weight:600;margin-left:4px;'>Deepnote</span></a>"
   ]
  }
 ],
 "metadata": {
  "deepnote": {
   "is_reactive": false
  },
  "deepnote_execution_queue": [],
  "deepnote_notebook_id": "ac407754-a64c-4c1c-84b3-72997442eda9",
  "kernelspec": {
   "display_name": "Python 3",
   "language": "python",
   "name": "python3"
  },
  "language_info": {
   "codemirror_mode": {
    "name": "ipython",
    "version": 3
   },
   "file_extension": ".py",
   "mimetype": "text/x-python",
   "name": "python",
   "nbconvert_exporter": "python",
   "pygments_lexer": "ipython3",
   "version": "3.8.3"
  }
 },
 "nbformat": 4,
 "nbformat_minor": 4
}
